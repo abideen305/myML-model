{
 "cells": [
  {
   "cell_type": "code",
   "execution_count": 5,
   "metadata": {},
   "outputs": [
    {
     "name": "stdout",
     "output_type": "stream",
     "text": [
      "5\n",
      "wrong\n",
      "6\n",
      "wrong\n",
      "3\n",
      "wrong\n",
      "Over\n"
     ]
    }
   ],
   "source": [
    "num = 9\n",
    "attempt = 3\n",
    "trial = 0\n",
    "while True:\n",
    "    a = int(input())\n",
    "    if a==num:\n",
    "        print('nice')\n",
    "        break\n",
    "    else:\n",
    "        print('wrong')\n",
    "    trial +=1\n",
    "    if trial == attempt:\n",
    "       # print('lost')\n",
    "        break\n",
    "print('Over')"
   ]
  },
  {
   "cell_type": "code",
   "execution_count": null,
   "metadata": {},
   "outputs": [],
   "source": []
  }
 ],
 "metadata": {
  "kernelspec": {
   "display_name": "Python 3",
   "language": "python",
   "name": "python3"
  },
  "language_info": {
   "codemirror_mode": {
    "name": "ipython",
    "version": 3
   },
   "file_extension": ".py",
   "mimetype": "text/x-python",
   "name": "python",
   "nbconvert_exporter": "python",
   "pygments_lexer": "ipython3",
   "version": "3.8.3"
  }
 },
 "nbformat": 4,
 "nbformat_minor": 4
}

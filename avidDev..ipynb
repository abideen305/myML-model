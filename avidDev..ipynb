{
 "cells": [
  {
   "cell_type": "code",
   "execution_count": 6,
   "metadata": {
    "ExecuteTime": {
     "end_time": "2020-07-01T06:17:18.280934Z",
     "start_time": "2020-07-01T06:17:18.276932Z"
    }
   },
   "outputs": [],
   "source": [
    "import pandas as pd"
   ]
  },
  {
   "cell_type": "code",
   "execution_count": 7,
   "metadata": {
    "ExecuteTime": {
     "end_time": "2020-07-01T06:17:18.441456Z",
     "start_time": "2020-07-01T06:17:18.284937Z"
    }
   },
   "outputs": [
    {
     "data": {
      "text/html": [
       "<div>\n",
       "<style scoped>\n",
       "    .dataframe tbody tr th:only-of-type {\n",
       "        vertical-align: middle;\n",
       "    }\n",
       "\n",
       "    .dataframe tbody tr th {\n",
       "        vertical-align: top;\n",
       "    }\n",
       "\n",
       "    .dataframe thead th {\n",
       "        text-align: right;\n",
       "    }\n",
       "</style>\n",
       "<table border=\"1\" class=\"dataframe\">\n",
       "  <thead>\n",
       "    <tr style=\"text-align: right;\">\n",
       "      <th></th>\n",
       "      <th>First name</th>\n",
       "      <th>Last name</th>\n",
       "      <th>number</th>\n",
       "    </tr>\n",
       "  </thead>\n",
       "  <tbody>\n",
       "    <tr>\n",
       "      <td>0</td>\n",
       "      <td>Simeon</td>\n",
       "      <td>AvidDev</td>\n",
       "      <td>7063123702</td>\n",
       "    </tr>\n",
       "    <tr>\n",
       "      <td>1</td>\n",
       "      <td>Joseph</td>\n",
       "      <td>AvidDev</td>\n",
       "      <td>8080330018</td>\n",
       "    </tr>\n",
       "    <tr>\n",
       "      <td>2</td>\n",
       "      <td>Bernard</td>\n",
       "      <td>AvidDev</td>\n",
       "      <td>7060859311</td>\n",
       "    </tr>\n",
       "    <tr>\n",
       "      <td>3</td>\n",
       "      <td>Justin</td>\n",
       "      <td>AvidDev</td>\n",
       "      <td>8113589811</td>\n",
       "    </tr>\n",
       "    <tr>\n",
       "      <td>4</td>\n",
       "      <td>Ali</td>\n",
       "      <td>AvidDev</td>\n",
       "      <td>8063611994</td>\n",
       "    </tr>\n",
       "    <tr>\n",
       "      <td>5</td>\n",
       "      <td>Vivian</td>\n",
       "      <td>AvidDev</td>\n",
       "      <td>8165019555</td>\n",
       "    </tr>\n",
       "    <tr>\n",
       "      <td>6</td>\n",
       "      <td>Balogun</td>\n",
       "      <td>AvidDev</td>\n",
       "      <td>8185210382</td>\n",
       "    </tr>\n",
       "    <tr>\n",
       "      <td>7</td>\n",
       "      <td>Fakomi</td>\n",
       "      <td>AvidDev</td>\n",
       "      <td>8169568707</td>\n",
       "    </tr>\n",
       "    <tr>\n",
       "      <td>8</td>\n",
       "      <td>Faozziyyah</td>\n",
       "      <td>AvidDev</td>\n",
       "      <td>8156128168</td>\n",
       "    </tr>\n",
       "    <tr>\n",
       "      <td>9</td>\n",
       "      <td>Amarachi</td>\n",
       "      <td>AvidDev</td>\n",
       "      <td>8086108361</td>\n",
       "    </tr>\n",
       "    <tr>\n",
       "      <td>10</td>\n",
       "      <td>Adepoju</td>\n",
       "      <td>AvidDev</td>\n",
       "      <td>8093919989</td>\n",
       "    </tr>\n",
       "    <tr>\n",
       "      <td>11</td>\n",
       "      <td>thrive</td>\n",
       "      <td>AvidDev</td>\n",
       "      <td>7033548895</td>\n",
       "    </tr>\n",
       "    <tr>\n",
       "      <td>12</td>\n",
       "      <td>Shobande</td>\n",
       "      <td>AvidDev</td>\n",
       "      <td>8141648402</td>\n",
       "    </tr>\n",
       "    <tr>\n",
       "      <td>13</td>\n",
       "      <td>Ajise</td>\n",
       "      <td>AvidDev</td>\n",
       "      <td>8135567411</td>\n",
       "    </tr>\n",
       "    <tr>\n",
       "      <td>14</td>\n",
       "      <td>Ayoyinka</td>\n",
       "      <td>AvidDev</td>\n",
       "      <td>8062400847</td>\n",
       "    </tr>\n",
       "    <tr>\n",
       "      <td>15</td>\n",
       "      <td>Miracle</td>\n",
       "      <td>AvidDev</td>\n",
       "      <td>8127961889</td>\n",
       "    </tr>\n",
       "    <tr>\n",
       "      <td>16</td>\n",
       "      <td>Gabriel</td>\n",
       "      <td>AvidDev</td>\n",
       "      <td>9060720769</td>\n",
       "    </tr>\n",
       "    <tr>\n",
       "      <td>17</td>\n",
       "      <td>Mavewrick</td>\n",
       "      <td>AvidDev</td>\n",
       "      <td>7016487796</td>\n",
       "    </tr>\n",
       "    <tr>\n",
       "      <td>18</td>\n",
       "      <td>Ukpono</td>\n",
       "      <td>AvidDev</td>\n",
       "      <td>8173530104</td>\n",
       "    </tr>\n",
       "    <tr>\n",
       "      <td>19</td>\n",
       "      <td>Chimdia</td>\n",
       "      <td>AvidDev</td>\n",
       "      <td>8093554575</td>\n",
       "    </tr>\n",
       "    <tr>\n",
       "      <td>20</td>\n",
       "      <td>OLOGUN</td>\n",
       "      <td>AvidDev</td>\n",
       "      <td>8163735304</td>\n",
       "    </tr>\n",
       "    <tr>\n",
       "      <td>21</td>\n",
       "      <td>Emmanuel</td>\n",
       "      <td>AvidDev</td>\n",
       "      <td>8068234829</td>\n",
       "    </tr>\n",
       "    <tr>\n",
       "      <td>22</td>\n",
       "      <td>Chimdia</td>\n",
       "      <td>AvidDev</td>\n",
       "      <td>8093554575</td>\n",
       "    </tr>\n",
       "    <tr>\n",
       "      <td>23</td>\n",
       "      <td>Seun</td>\n",
       "      <td>AvidDev</td>\n",
       "      <td>8137300191</td>\n",
       "    </tr>\n",
       "    <tr>\n",
       "      <td>24</td>\n",
       "      <td>Adelakun</td>\n",
       "      <td>AvidDev</td>\n",
       "      <td>7031141842</td>\n",
       "    </tr>\n",
       "    <tr>\n",
       "      <td>25</td>\n",
       "      <td>Akinleye</td>\n",
       "      <td>AvidDev</td>\n",
       "      <td>8169803130</td>\n",
       "    </tr>\n",
       "    <tr>\n",
       "      <td>26</td>\n",
       "      <td>Abideen</td>\n",
       "      <td>AvidDev</td>\n",
       "      <td>8179651769</td>\n",
       "    </tr>\n",
       "    <tr>\n",
       "      <td>27</td>\n",
       "      <td>Ewiwilem</td>\n",
       "      <td>AvidDev</td>\n",
       "      <td>7032981229</td>\n",
       "    </tr>\n",
       "    <tr>\n",
       "      <td>28</td>\n",
       "      <td>David</td>\n",
       "      <td>AvidDev</td>\n",
       "      <td>8067492953</td>\n",
       "    </tr>\n",
       "    <tr>\n",
       "      <td>29</td>\n",
       "      <td>Lukman</td>\n",
       "      <td>AvidDev</td>\n",
       "      <td>7068045265</td>\n",
       "    </tr>\n",
       "    <tr>\n",
       "      <td>30</td>\n",
       "      <td>Umar</td>\n",
       "      <td>AvidDev</td>\n",
       "      <td>8134660261</td>\n",
       "    </tr>\n",
       "    <tr>\n",
       "      <td>31</td>\n",
       "      <td>Joshua</td>\n",
       "      <td>AvidDev</td>\n",
       "      <td>8147237653</td>\n",
       "    </tr>\n",
       "    <tr>\n",
       "      <td>32</td>\n",
       "      <td>Olushola</td>\n",
       "      <td>AvidDev</td>\n",
       "      <td>8060283204</td>\n",
       "    </tr>\n",
       "    <tr>\n",
       "      <td>33</td>\n",
       "      <td>Mary</td>\n",
       "      <td>AvidDev</td>\n",
       "      <td>9058477448</td>\n",
       "    </tr>\n",
       "    <tr>\n",
       "      <td>34</td>\n",
       "      <td>Jibril</td>\n",
       "      <td>AvidDev</td>\n",
       "      <td>8093597516</td>\n",
       "    </tr>\n",
       "    <tr>\n",
       "      <td>35</td>\n",
       "      <td>Okoli</td>\n",
       "      <td>AvidDev</td>\n",
       "      <td>9093906357</td>\n",
       "    </tr>\n",
       "    <tr>\n",
       "      <td>36</td>\n",
       "      <td>Okoli</td>\n",
       "      <td>AvidDev</td>\n",
       "      <td>9093906357</td>\n",
       "    </tr>\n",
       "    <tr>\n",
       "      <td>37</td>\n",
       "      <td>Regina</td>\n",
       "      <td>AvidDev</td>\n",
       "      <td>7010599438</td>\n",
       "    </tr>\n",
       "  </tbody>\n",
       "</table>\n",
       "</div>"
      ],
      "text/plain": [
       "    First name Last name      number\n",
       "0       Simeon   AvidDev  7063123702\n",
       "1       Joseph   AvidDev  8080330018\n",
       "2      Bernard   AvidDev  7060859311\n",
       "3       Justin   AvidDev  8113589811\n",
       "4          Ali   AvidDev  8063611994\n",
       "5       Vivian   AvidDev  8165019555\n",
       "6      Balogun   AvidDev  8185210382\n",
       "7       Fakomi   AvidDev  8169568707\n",
       "8   Faozziyyah   AvidDev  8156128168\n",
       "9     Amarachi   AvidDev  8086108361\n",
       "10     Adepoju   AvidDev  8093919989\n",
       "11      thrive   AvidDev  7033548895\n",
       "12    Shobande   AvidDev  8141648402\n",
       "13       Ajise   AvidDev  8135567411\n",
       "14    Ayoyinka   AvidDev  8062400847\n",
       "15     Miracle   AvidDev  8127961889\n",
       "16     Gabriel   AvidDev  9060720769\n",
       "17   Mavewrick   AvidDev  7016487796\n",
       "18      Ukpono   AvidDev  8173530104\n",
       "19     Chimdia   AvidDev  8093554575\n",
       "20      OLOGUN   AvidDev  8163735304\n",
       "21    Emmanuel   AvidDev  8068234829\n",
       "22     Chimdia   AvidDev  8093554575\n",
       "23        Seun   AvidDev  8137300191\n",
       "24    Adelakun   AvidDev  7031141842\n",
       "25    Akinleye   AvidDev  8169803130\n",
       "26     Abideen   AvidDev  8179651769\n",
       "27    Ewiwilem   AvidDev  7032981229\n",
       "28       David   AvidDev  8067492953\n",
       "29      Lukman   AvidDev  7068045265\n",
       "30        Umar   AvidDev  8134660261\n",
       "31      Joshua   AvidDev  8147237653\n",
       "32    Olushola   AvidDev  8060283204\n",
       "33        Mary   AvidDev  9058477448\n",
       "34      Jibril   AvidDev  8093597516\n",
       "35       Okoli   AvidDev  9093906357\n",
       "36       Okoli   AvidDev  9093906357\n",
       "37      Regina   AvidDev  7010599438"
      ]
     },
     "execution_count": 7,
     "metadata": {},
     "output_type": "execute_result"
    }
   ],
   "source": [
    "file = pd.read_csv(\"avidDev.csv\")\n",
    "\n",
    "\n",
    "file"
   ]
  },
  {
   "cell_type": "code",
   "execution_count": 9,
   "metadata": {
    "ExecuteTime": {
     "end_time": "2020-07-01T06:23:24.809130Z",
     "start_time": "2020-07-01T06:23:24.803129Z"
    }
   },
   "outputs": [],
   "source": [
    "contacts = file.copy()"
   ]
  },
  {
   "cell_type": "code",
   "execution_count": 10,
   "metadata": {
    "ExecuteTime": {
     "end_time": "2020-07-01T06:23:34.486539Z",
     "start_time": "2020-07-01T06:23:34.433503Z"
    }
   },
   "outputs": [
    {
     "data": {
      "text/html": [
       "<div>\n",
       "<style scoped>\n",
       "    .dataframe tbody tr th:only-of-type {\n",
       "        vertical-align: middle;\n",
       "    }\n",
       "\n",
       "    .dataframe tbody tr th {\n",
       "        vertical-align: top;\n",
       "    }\n",
       "\n",
       "    .dataframe thead th {\n",
       "        text-align: right;\n",
       "    }\n",
       "</style>\n",
       "<table border=\"1\" class=\"dataframe\">\n",
       "  <thead>\n",
       "    <tr style=\"text-align: right;\">\n",
       "      <th></th>\n",
       "      <th>First name</th>\n",
       "      <th>Last name</th>\n",
       "      <th>number</th>\n",
       "    </tr>\n",
       "  </thead>\n",
       "  <tbody>\n",
       "    <tr>\n",
       "      <td>0</td>\n",
       "      <td>Simeon</td>\n",
       "      <td>AvidDev</td>\n",
       "      <td>7063123702</td>\n",
       "    </tr>\n",
       "    <tr>\n",
       "      <td>1</td>\n",
       "      <td>Joseph</td>\n",
       "      <td>AvidDev</td>\n",
       "      <td>8080330018</td>\n",
       "    </tr>\n",
       "    <tr>\n",
       "      <td>2</td>\n",
       "      <td>Bernard</td>\n",
       "      <td>AvidDev</td>\n",
       "      <td>7060859311</td>\n",
       "    </tr>\n",
       "    <tr>\n",
       "      <td>3</td>\n",
       "      <td>Justin</td>\n",
       "      <td>AvidDev</td>\n",
       "      <td>8113589811</td>\n",
       "    </tr>\n",
       "    <tr>\n",
       "      <td>4</td>\n",
       "      <td>Ali</td>\n",
       "      <td>AvidDev</td>\n",
       "      <td>8063611994</td>\n",
       "    </tr>\n",
       "    <tr>\n",
       "      <td>5</td>\n",
       "      <td>Vivian</td>\n",
       "      <td>AvidDev</td>\n",
       "      <td>8165019555</td>\n",
       "    </tr>\n",
       "  </tbody>\n",
       "</table>\n",
       "</div>"
      ],
      "text/plain": [
       "  First name Last name      number\n",
       "0     Simeon   AvidDev  7063123702\n",
       "1     Joseph   AvidDev  8080330018\n",
       "2    Bernard   AvidDev  7060859311\n",
       "3     Justin   AvidDev  8113589811\n",
       "4        Ali   AvidDev  8063611994\n",
       "5     Vivian   AvidDev  8165019555"
      ]
     },
     "execution_count": 10,
     "metadata": {},
     "output_type": "execute_result"
    }
   ],
   "source": [
    "contacts.head(6)"
   ]
  },
  {
   "cell_type": "code",
   "execution_count": 12,
   "metadata": {
    "ExecuteTime": {
     "end_time": "2020-07-01T06:26:19.166840Z",
     "start_time": "2020-07-01T06:26:19.141826Z"
    }
   },
   "outputs": [
    {
     "name": "stdout",
     "output_type": "stream",
     "text": [
      "Usage:\n",
      "C:\\ProgramData\\Anaconda3\\lib\\site-packages\\ipykernel_launcher.py avidDev.csv\n"
     ]
    }
   ],
   "source": [
    "# -*- coding: utf-8 -*-\n",
    "#python 3.x\n",
    "\n",
    "import csv\n",
    "import sys\n",
    "\n",
    "#convert a \"comma separated values\" file to vcf contact cards\n",
    "\n",
    "#USAGE:\n",
    "#CSV_to_Vcards.py CSV_filename\n",
    "\n",
    "\n",
    "def convert(somefile):\n",
    "    #assuming file format : lastname,firstname,phonenumber,mail\n",
    "    with open( somefile, 'r' ) as source:\n",
    "        reader = csv.reader( source )\n",
    "        allvcf = open('ALL.vcf', 'w')\n",
    "        i = 0\n",
    "        for row in reader:\n",
    "            #write in individual vcf\n",
    "            vcf = open(row[1] + ' ' + row[0] + \".vcf\", 'w')\n",
    "            vcf.write( 'BEGIN:VCARD' + \"\\n\")\n",
    "            vcf.write( 'VERSION:3.0' + \"\\n\")\n",
    "            vcf.write( 'N:' + row[0] + ';' + row[1] + \"\\n\")\n",
    "            vcf.write( 'FN:' + row[1] + ' ' + row[0] + \"\\n\")\n",
    "            vcf.write( 'ORG:' + 'ATI' + \"\\n\")\n",
    "            vcf.write( 'TEL;CELL:' + row[2] + \"\\n\")\n",
    "            vcf.write( 'EMAIL:' + row[3] + \"\\n\")\n",
    "            vcf.write( 'END:VCARD' + \"\\n\")\n",
    "            vcf.write( \"\\n\")\n",
    "            vcf.close()\n",
    "\n",
    "            #write in the \"ALL.vcf\" file\n",
    "            allvcf.write( 'BEGIN:VCARD' + \"\\n\")\n",
    "            allvcf.write( 'VERSION:3.0' + \"\\n\")\n",
    "            allvcf.write( 'N:' + row[0] + ';' + row[1] + \"\\n\")\n",
    "            allvcf.write( 'FN:' + row[1] + ' ' + row[0] + \"\\n\")\n",
    "            allvcf.write( 'ORG:' + 'ATI' + \"\\n\")\n",
    "            allvcf.write( 'TEL;CELL:' + row[2] + \"\\n\")\n",
    "            allvcf.write( 'EMAIL:' + row[3] + \"\\n\")\n",
    "            allvcf.write( 'END:VCARD' + \"\\n\")\n",
    "            allvcf.write( \"\\n\")\n",
    "\n",
    "            i += 1#counts\n",
    "\n",
    "        allvcf.close()\n",
    "        print (str(i) + \" vcf cards generated\")\n",
    "\n",
    "\n",
    "def main(args):\n",
    "    if len(args) != 2:\n",
    "        print ( \"Usage:\")\n",
    "        print ( args[0] + \" avidDev.csv\")\n",
    "        return\n",
    "\n",
    "    convert(args[1])\n",
    "\n",
    "if __name__ == '__main__':\n",
    "    main(sys.argv)"
   ]
  },
  {
   "cell_type": "code",
   "execution_count": 17,
   "metadata": {
    "ExecuteTime": {
     "end_time": "2020-07-01T07:43:27.410155Z",
     "start_time": "2020-07-01T07:43:27.406153Z"
    }
   },
   "outputs": [],
   "source": [
    "import numpy as np"
   ]
  },
  {
   "cell_type": "code",
   "execution_count": 20,
   "metadata": {
    "ExecuteTime": {
     "end_time": "2020-07-01T07:43:57.787396Z",
     "start_time": "2020-07-01T07:43:57.779391Z"
    }
   },
   "outputs": [
    {
     "data": {
      "text/plain": [
       "array([[1., 0., 0., 0., 0.],\n",
       "       [0., 1., 0., 0., 0.],\n",
       "       [0., 0., 1., 0., 0.],\n",
       "       [0., 0., 0., 1., 0.],\n",
       "       [0., 0., 0., 0., 1.]])"
      ]
     },
     "execution_count": 20,
     "metadata": {},
     "output_type": "execute_result"
    }
   ],
   "source": [
    "eye = np.eye(5)\n",
    "\n",
    "eye"
   ]
  },
  {
   "cell_type": "code",
   "execution_count": 21,
   "metadata": {
    "ExecuteTime": {
     "end_time": "2020-07-01T07:44:34.784168Z",
     "start_time": "2020-07-01T07:44:34.420919Z"
    }
   },
   "outputs": [],
   "source": [
    "import scipy"
   ]
  },
  {
   "cell_type": "code",
   "execution_count": 24,
   "metadata": {
    "ExecuteTime": {
     "end_time": "2020-07-01T07:46:11.752625Z",
     "start_time": "2020-07-01T07:46:11.745620Z"
    }
   },
   "outputs": [
    {
     "data": {
      "text/plain": [
       "array([0., 0., 0., 0., 0.])"
      ]
     },
     "execution_count": 24,
     "metadata": {},
     "output_type": "execute_result"
    }
   ],
   "source": [
    "eye2=np.zeros(5)\n",
    "eye2"
   ]
  },
  {
   "cell_type": "code",
   "execution_count": 27,
   "metadata": {
    "ExecuteTime": {
     "end_time": "2020-07-01T07:50:07.757686Z",
     "start_time": "2020-07-01T07:50:07.734670Z"
    }
   },
   "outputs": [
    {
     "data": {
      "text/html": [
       "<div>\n",
       "<style scoped>\n",
       "    .dataframe tbody tr th:only-of-type {\n",
       "        vertical-align: middle;\n",
       "    }\n",
       "\n",
       "    .dataframe tbody tr th {\n",
       "        vertical-align: top;\n",
       "    }\n",
       "\n",
       "    .dataframe thead th {\n",
       "        text-align: right;\n",
       "    }\n",
       "</style>\n",
       "<table border=\"1\" class=\"dataframe\">\n",
       "  <thead>\n",
       "    <tr style=\"text-align: right;\">\n",
       "      <th></th>\n",
       "      <th>Name</th>\n",
       "      <th>Location</th>\n",
       "      <th>Age</th>\n",
       "    </tr>\n",
       "  </thead>\n",
       "  <tbody>\n",
       "    <tr>\n",
       "      <td>0</td>\n",
       "      <td>John</td>\n",
       "      <td>New York</td>\n",
       "      <td>24</td>\n",
       "    </tr>\n",
       "    <tr>\n",
       "      <td>1</td>\n",
       "      <td>Anna</td>\n",
       "      <td>Paris</td>\n",
       "      <td>13</td>\n",
       "    </tr>\n",
       "    <tr>\n",
       "      <td>2</td>\n",
       "      <td>Peter</td>\n",
       "      <td>Berlin</td>\n",
       "      <td>53</td>\n",
       "    </tr>\n",
       "    <tr>\n",
       "      <td>3</td>\n",
       "      <td>Linda</td>\n",
       "      <td>London</td>\n",
       "      <td>33</td>\n",
       "    </tr>\n",
       "  </tbody>\n",
       "</table>\n",
       "</div>"
      ],
      "text/plain": [
       "    Name  Location  Age\n",
       "0   John  New York   24\n",
       "1   Anna     Paris   13\n",
       "2  Peter    Berlin   53\n",
       "3  Linda    London   33"
      ]
     },
     "execution_count": 27,
     "metadata": {},
     "output_type": "execute_result"
    }
   ],
   "source": [
    "data = {'Name': [\"John\", \"Anna\", \"Peter\", \"Linda\"],\n",
    " 'Location' : [\"New York\", \"Paris\", \"Berlin\", \"London\"],\n",
    " 'Age' : [24, 13, 53, 33]\n",
    " }\n",
    "\n",
    "data_pandas = pd.DataFrame(data)\n",
    "\n",
    "data_pandas"
   ]
  },
  {
   "cell_type": "code",
   "execution_count": 28,
   "metadata": {
    "ExecuteTime": {
     "end_time": "2020-07-01T07:50:39.074097Z",
     "start_time": "2020-07-01T07:50:39.062087Z"
    }
   },
   "outputs": [
    {
     "data": {
      "text/html": [
       "<div>\n",
       "<style scoped>\n",
       "    .dataframe tbody tr th:only-of-type {\n",
       "        vertical-align: middle;\n",
       "    }\n",
       "\n",
       "    .dataframe tbody tr th {\n",
       "        vertical-align: top;\n",
       "    }\n",
       "\n",
       "    .dataframe thead th {\n",
       "        text-align: right;\n",
       "    }\n",
       "</style>\n",
       "<table border=\"1\" class=\"dataframe\">\n",
       "  <thead>\n",
       "    <tr style=\"text-align: right;\">\n",
       "      <th></th>\n",
       "      <th>Name</th>\n",
       "      <th>Location</th>\n",
       "      <th>Age</th>\n",
       "    </tr>\n",
       "  </thead>\n",
       "  <tbody>\n",
       "    <tr>\n",
       "      <td>0</td>\n",
       "      <td>John</td>\n",
       "      <td>New York</td>\n",
       "      <td>24</td>\n",
       "    </tr>\n",
       "    <tr>\n",
       "      <td>1</td>\n",
       "      <td>Anna</td>\n",
       "      <td>Paris</td>\n",
       "      <td>13</td>\n",
       "    </tr>\n",
       "    <tr>\n",
       "      <td>2</td>\n",
       "      <td>Peter</td>\n",
       "      <td>Berlin</td>\n",
       "      <td>53</td>\n",
       "    </tr>\n",
       "    <tr>\n",
       "      <td>3</td>\n",
       "      <td>Linda</td>\n",
       "      <td>London</td>\n",
       "      <td>33</td>\n",
       "    </tr>\n",
       "  </tbody>\n",
       "</table>\n",
       "</div>"
      ],
      "text/plain": [
       "    Name  Location  Age\n",
       "0   John  New York   24\n",
       "1   Anna     Paris   13\n",
       "2  Peter    Berlin   53\n",
       "3  Linda    London   33"
      ]
     },
     "metadata": {},
     "output_type": "display_data"
    }
   ],
   "source": [
    "\n",
    "display(data_pandas)"
   ]
  },
  {
   "cell_type": "code",
   "execution_count": null,
   "metadata": {},
   "outputs": [],
   "source": []
  }
 ],
 "metadata": {
  "kernelspec": {
   "display_name": "Python 3",
   "language": "python",
   "name": "python3"
  },
  "language_info": {
   "codemirror_mode": {
    "name": "ipython",
    "version": 3
   },
   "file_extension": ".py",
   "mimetype": "text/x-python",
   "name": "python",
   "nbconvert_exporter": "python",
   "pygments_lexer": "ipython3",
   "version": "3.7.4"
  },
  "toc": {
   "base_numbering": 1,
   "nav_menu": {},
   "number_sections": true,
   "sideBar": true,
   "skip_h1_title": false,
   "title_cell": "Table of Contents",
   "title_sidebar": "Contents",
   "toc_cell": false,
   "toc_position": {},
   "toc_section_display": true,
   "toc_window_display": false
  }
 },
 "nbformat": 4,
 "nbformat_minor": 2
}
